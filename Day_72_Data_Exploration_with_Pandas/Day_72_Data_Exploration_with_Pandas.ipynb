{
 "cells": [
  {
   "cell_type": "markdown",
   "id": "db487fb6",
   "metadata": {},
   "source": [
    "Import the Pandas Module and read in the CSV file into a Pandas Dataframe"
   ]
  },
  {
   "cell_type": "code",
   "execution_count": null,
   "id": "b62d8fa0",
   "metadata": {},
   "outputs": [],
   "source": [
    "import pandas as pd\n",
    "df = pd.read_csv('salaries_by_college_major.csv')"
   ]
  },
  {
   "cell_type": "markdown",
   "id": "7de163ac",
   "metadata": {},
   "source": [
    "View the first 5 rows of the Dataframe"
   ]
  },
  {
   "cell_type": "code",
   "execution_count": null,
   "id": "6645386e",
   "metadata": {
    "scrolled": false
   },
   "outputs": [],
   "source": [
    "df.head() "
   ]
  },
  {
   "cell_type": "markdown",
   "id": "76802831",
   "metadata": {},
   "source": [
    "View the number of rows and columns (should be 51 rows and 6 columns)"
   ]
  },
  {
   "cell_type": "code",
   "execution_count": null,
   "id": "2986382a",
   "metadata": {},
   "outputs": [],
   "source": [
    "df.shape"
   ]
  },
  {
   "cell_type": "markdown",
   "id": "5ea7c93f",
   "metadata": {},
   "source": [
    "View the column headers"
   ]
  },
  {
   "cell_type": "code",
   "execution_count": null,
   "id": "8f8e697f",
   "metadata": {},
   "outputs": [],
   "source": [
    "df.columns"
   ]
  },
  {
   "cell_type": "markdown",
   "id": "37ec7018",
   "metadata": {},
   "source": [
    "For each cell in the Dataframe, print True if the cell is NaN (Not a Number) or False if not"
   ]
  },
  {
   "cell_type": "code",
   "execution_count": null,
   "id": "16081ed5",
   "metadata": {},
   "outputs": [],
   "source": [
    "df.isna()"
   ]
  },
  {
   "cell_type": "markdown",
   "id": "aa0e1c4e",
   "metadata": {},
   "source": [
    "View the last 5 rows in the Dataframe.  There is a row at the end that has bad data in it (NaN)"
   ]
  },
  {
   "cell_type": "code",
   "execution_count": null,
   "id": "60a01c13",
   "metadata": {},
   "outputs": [],
   "source": [
    "df.tail()"
   ]
  },
  {
   "cell_type": "markdown",
   "id": "eecba03a",
   "metadata": {},
   "source": [
    "Use .dropna() to strip out the NaN rows and save as a new Dataframe\n",
    "View the last 5 rows of the new Dataframe"
   ]
  },
  {
   "cell_type": "code",
   "execution_count": null,
   "id": "485e00da",
   "metadata": {},
   "outputs": [],
   "source": [
    "cleandf = df.dropna()\n",
    "cleandf.tail()"
   ]
  },
  {
   "cell_type": "markdown",
   "id": "0a1e8fd8",
   "metadata": {},
   "source": [
    "View a column using []"
   ]
  },
  {
   "cell_type": "code",
   "execution_count": null,
   "id": "40d39799",
   "metadata": {},
   "outputs": [],
   "source": [
    "cleandf[\"Starting Median Salary\"]"
   ]
  },
  {
   "cell_type": "markdown",
   "id": "c0bdff96",
   "metadata": {},
   "source": [
    "Find the max starting salary"
   ]
  },
  {
   "cell_type": "code",
   "execution_count": null,
   "id": "20a7914e",
   "metadata": {},
   "outputs": [],
   "source": [
    "df[\"Starting Median Salary\"].max()"
   ]
  },
  {
   "cell_type": "markdown",
   "id": "0aaa43e6",
   "metadata": {},
   "source": [
    "The highest starting salary is $74,300. But which college major earns this much on average? \n",
    "\n",
    "For this, we need to know the row number or index so that we can look up the name of the major.  Lucky for us, the .idxmax() method will give us index for the row with the largest value."
   ]
  },
  {
   "cell_type": "code",
   "execution_count": null,
   "id": "d3c14b5a",
   "metadata": {},
   "outputs": [],
   "source": [
    "cleandf['Starting Median Salary'].idxmax()"
   ]
  },
  {
   "cell_type": "markdown",
   "id": "25b34790",
   "metadata": {},
   "source": [
    "To see the name of the major that corresponds to that particular row, we can use the .loc (location) property."
   ]
  },
  {
   "cell_type": "code",
   "execution_count": null,
   "id": "fd2a1335",
   "metadata": {},
   "outputs": [],
   "source": [
    "cleandf['Undergraduate Major'].loc[43]"
   ]
  },
  {
   "cell_type": "markdown",
   "id": "c4d4bb7a",
   "metadata": {},
   "source": [
    "Here we are selecting both a column ('Undergraduate Major') and a row at index 43, so we are retrieving the value of a particular cell. You might see people using the double square brackets notation to achieve exactly the same thing:"
   ]
  },
  {
   "cell_type": "code",
   "execution_count": null,
   "id": "5a0b268b",
   "metadata": {},
   "outputs": [],
   "source": [
    "cleandf['Undergraduate Major'][43]"
   ]
  },
  {
   "cell_type": "markdown",
   "id": "04f1b9e5",
   "metadata": {},
   "source": [
    "If you don't specify a particular column you can use the .loc property to retrieve an entire row:"
   ]
  },
  {
   "cell_type": "code",
   "execution_count": null,
   "id": "335817dd",
   "metadata": {},
   "outputs": [],
   "source": [
    "cleandf.loc[43]"
   ]
  },
  {
   "cell_type": "markdown",
   "id": "e379c93a",
   "metadata": {},
   "source": [
    "What college major has the highest mid-career salary? How much do graduates with this major earn?  (Mid-career is defined as having 10+ years of experience)."
   ]
  },
  {
   "cell_type": "code",
   "execution_count": null,
   "id": "54cfb1b7",
   "metadata": {},
   "outputs": [],
   "source": [
    "max_salary_idx = cleandf['Mid-Career Median Salary'].idxmax()\n",
    "cleandf['Undergraduate Major'][max_salary_idx]"
   ]
  },
  {
   "cell_type": "markdown",
   "id": "fe6579a3",
   "metadata": {},
   "source": [
    "Which college major has the lowest starting salary and how much do graduates earn after university?"
   ]
  },
  {
   "cell_type": "code",
   "execution_count": null,
   "id": "22ea45d1",
   "metadata": {},
   "outputs": [],
   "source": [
    "min_salary_idx = cleandf['Starting Median Salary'].idxmin()\n",
    "min_salary_major = cleandf['Undergraduate Major'][min_salary_idx]\n",
    "min_salary = cleandf['Starting Median Salary'].min()\n",
    "print(f\"{min_salary_major} majors earn the lowest starting salary, earning ${min_salary}\")"
   ]
  },
  {
   "cell_type": "markdown",
   "id": "22db3f41",
   "metadata": {},
   "source": [
    "Which college major has the lowest mid-career salary and how much can people expect to earn with this degree? "
   ]
  },
  {
   "cell_type": "code",
   "execution_count": null,
   "id": "e783c2c5",
   "metadata": {},
   "outputs": [],
   "source": [
    "min_mid_salary = cleandf['Mid-Career Median Salary'].min()\n",
    "min_mid_salary_idx = cleandf['Mid-Career Median Salary'].idxmin()\n",
    "min_mid_salary_major = cleandf['Undergraduate Major'][min_mid_salary_idx]\n",
    "print(f\"{min_mid_salary_major} majors earn the lowest mid-career salary, earning ${min_mid_salary}\")"
   ]
  },
  {
   "cell_type": "markdown",
   "id": "37d5432f",
   "metadata": {},
   "source": [
    "A low-risk major is a degree where there is a small difference between the lowest and highest salaries.   In other words, if the difference between the 10th percentile and the 90th percentile earnings of your major  is small, then you can be more certain about your salary after you graduate.\n",
    "\n",
    "How would we calculate the difference between the earnings of the 10th and 90th percentile? Well, Pandas allows us to do simple arithmetic with entire columns, so all we need to do is take the difference between the two columns:"
   ]
  },
  {
   "cell_type": "code",
   "execution_count": null,
   "id": "8fd8d62e",
   "metadata": {},
   "outputs": [],
   "source": [
    "cleandf['Mid-Career 90th Percentile Salary'] - cleandf['Mid-Career 10th Percentile Salary']"
   ]
  },
  {
   "cell_type": "markdown",
   "id": "741cc3b2",
   "metadata": {},
   "source": [
    "Alternatively, you can also use the .subtract() method."
   ]
  },
  {
   "cell_type": "code",
   "execution_count": null,
   "id": "6c6ab728",
   "metadata": {},
   "outputs": [],
   "source": [
    "cleandf['Mid-Career 90th Percentile Salary'].subtract(cleandf['Mid-Career 10th Percentile Salary'])"
   ]
  },
  {
   "cell_type": "markdown",
   "id": "a1baf081",
   "metadata": {},
   "source": [
    "The output of this computation will be another Pandas dataframe column. We can add this to our existing dataframe with the .insert() method:"
   ]
  },
  {
   "cell_type": "code",
   "execution_count": null,
   "id": "49c0b793",
   "metadata": {},
   "outputs": [],
   "source": [
    "spread_col = cleandf['Mid-Career 90th Percentile Salary'] - cleandf['Mid-Career 10th Percentile Salary']\n",
    "cleandf.insert(1, 'Spread', spread_col)\n",
    "cleandf.head()"
   ]
  },
  {
   "cell_type": "markdown",
   "id": "03172751",
   "metadata": {},
   "source": [
    "**Sorting by the Lowest Spread\n",
    "\n",
    "To see which degrees have the smallest spread, we can use the .sort_values() method. And since we are interested in only seeing the name of the degree and the major, we can pass a list of these two column names to look at the .head() of these two columns exclusively."
   ]
  },
  {
   "cell_type": "code",
   "execution_count": null,
   "id": "b9bc13b9",
   "metadata": {},
   "outputs": [],
   "source": [
    "low_risk = cleandf.sort_values('Spread')\n",
    "low_risk[['Undergraduate Major', 'Spread']].head()"
   ]
  },
  {
   "cell_type": "markdown",
   "id": "ae56f86d",
   "metadata": {},
   "source": [
    "Using the .sort_values() method, can you find the degrees with the highest potential? Find the top 5 degrees with the highest values in the 90th percentile. \n",
    "\n",
    "Also, find the degrees with the greatest spread in salaries. Which majors have the largest difference between high and low earners after graduation."
   ]
  },
  {
   "cell_type": "code",
   "execution_count": null,
   "id": "99f52c2a",
   "metadata": {},
   "outputs": [],
   "source": [
    "high_potential = cleandf.sort_values('Mid-Career 90th Percentile Salary', ascending=False)\n",
    "high_potential[['Undergraduate Major', 'Mid-Career 90th Percentile Salary']].head()"
   ]
  },
  {
   "cell_type": "code",
   "execution_count": null,
   "id": "d20f395d",
   "metadata": {},
   "outputs": [],
   "source": [
    "highest_spread = cleandf.sort_values('Spread', ascending=False)\n",
    "highest_spread[['Undergraduate Major', 'Spread']].head()"
   ]
  },
  {
   "cell_type": "markdown",
   "id": "5e0f1445",
   "metadata": {},
   "source": [
    "Often times you will want to sum rows that belong to a particular category. For example, which category of degrees has the highest average salary? Is it STEM, Business or HASS (Humanities, Arts, and Social Science)? \n",
    "\n",
    "To answer this question we need to learn to use the .groupby() method. This allows us to manipulate data similar to a Microsoft Excel Pivot Table.\n",
    "\n",
    "We have three categories in the 'Group' column: STEM, HASS and Business. Let's count how many majors we have in each category:"
   ]
  },
  {
   "cell_type": "code",
   "execution_count": null,
   "id": "aae12854",
   "metadata": {},
   "outputs": [],
   "source": [
    "cleandf.groupby('Group').count()"
   ]
  },
  {
   "cell_type": "markdown",
   "id": "3c576a6c",
   "metadata": {},
   "source": [
    "Now can you use the .mean() method to find the average salary by group? "
   ]
  },
  {
   "cell_type": "code",
   "execution_count": null,
   "id": "2101f0a5",
   "metadata": {},
   "outputs": [],
   "source": [
    "cleandf.groupby('Group').mean(numeric_only=True)"
   ]
  },
  {
   "cell_type": "markdown",
   "id": "55966f0f",
   "metadata": {},
   "source": [
    "**Number formats in the Output\n",
    "\n",
    "The above is a little hard to read, isn't it? We can tell Pandas to print the numbers in our notebook to look like 1,012.45 with the following line:"
   ]
  },
  {
   "cell_type": "code",
   "execution_count": null,
   "id": "64f2113c",
   "metadata": {},
   "outputs": [],
   "source": [
    "pd.options.display.float_format = '{:,.2f}'.format "
   ]
  },
  {
   "cell_type": "code",
   "execution_count": null,
   "id": "b0fe7b95",
   "metadata": {},
   "outputs": [],
   "source": [
    "cleandf.groupby('Group').mean(numeric_only=True)"
   ]
  }
 ],
 "metadata": {
  "kernelspec": {
   "display_name": "Python 3 (ipykernel)",
   "language": "python",
   "name": "python3"
  },
  "language_info": {
   "codemirror_mode": {
    "name": "ipython",
    "version": 3
   },
   "file_extension": ".py",
   "mimetype": "text/x-python",
   "name": "python",
   "nbconvert_exporter": "python",
   "pygments_lexer": "ipython3",
   "version": "3.11.4"
  }
 },
 "nbformat": 4,
 "nbformat_minor": 5
}
